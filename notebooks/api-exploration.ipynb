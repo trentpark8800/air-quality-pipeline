{
 "cells": [
  {
   "cell_type": "code",
   "execution_count": 2,
   "metadata": {},
   "outputs": [],
   "source": [
    "import json\n",
    "\n",
    "from openaq import OpenAQ"
   ]
  },
  {
   "cell_type": "code",
   "execution_count": 3,
   "metadata": {},
   "outputs": [],
   "source": [
    "with open(\"../secrets.json\") as f:\n",
    "    secrets = json.load(f)\n",
    "    f.close()\n",
    "\n",
    "openaq_key = secrets[\"openaq-api-key\"]"
   ]
  },
  {
   "cell_type": "code",
   "execution_count": 4,
   "metadata": {},
   "outputs": [
    {
     "data": {
      "text/plain": [
       "<openaq._sync.client.OpenAQ at 0x15162a46d20>"
      ]
     },
     "execution_count": 4,
     "metadata": {},
     "output_type": "execute_result"
    }
   ],
   "source": [
    "client = OpenAQ(api_key=openaq_key)\n",
    "\n",
    "client"
   ]
  },
  {
   "cell_type": "code",
   "execution_count": 5,
   "metadata": {},
   "outputs": [
    {
     "data": {
      "text/plain": [
       "Meta(name='openaq-api', website='/', page=1, limit=1000, found=76)"
      ]
     },
     "execution_count": 5,
     "metadata": {},
     "output_type": "execute_result"
    }
   ],
   "source": [
    "sa_bbox_search_locations = client.locations.list(\n",
    "    bbox=(27.191162,-27.264396,29.135742,-24.726875),\n",
    "    limit=1000\n",
    ")\n",
    "\n",
    "sa_bbox_search_locations.meta"
   ]
  },
  {
   "cell_type": "code",
   "execution_count": 6,
   "metadata": {},
   "outputs": [
    {
     "data": {
      "text/plain": [
       "{'id': 225393,\n",
       " 'name': 'Damonsville',\n",
       " 'locality': 'Bojanala Platinum',\n",
       " 'timezone': 'Africa/Johannesburg',\n",
       " 'country': CountryBase(id=37, code='ZA', name='South Africa'),\n",
       " 'owner': OwnerBase(id=4, name='Unknown Governmental Organization'),\n",
       " 'provider': ProviderBase(id=225, name='South Africa'),\n",
       " 'is_mobile': False,\n",
       " 'is_monitor': True,\n",
       " 'instruments': [InstrumentBase(id=2, name='Government Monitor')],\n",
       " 'sensors': [SensorBase(id=5079588, name='no ppm', parameter=ParameterBase(id=35, name='no', units='ppm', display_name='NO')),\n",
       "  SensorBase(id=1303604, name='no2 ppm', parameter=ParameterBase(id=7, name='no2', units='ppm', display_name='NO₂')),\n",
       "  SensorBase(id=5079589, name='nox ppm', parameter=ParameterBase(id=19840, name='nox', units='ppm', display_name='NOx')),\n",
       "  SensorBase(id=5079586, name='pm10 µg/m³', parameter=ParameterBase(id=1, name='pm10', units='µg/m³', display_name='PM10')),\n",
       "  SensorBase(id=5079587, name='pm25 µg/m³', parameter=ParameterBase(id=2, name='pm25', units='µg/m³', display_name='PM2.5')),\n",
       "  SensorBase(id=1303603, name='so2 ppm', parameter=ParameterBase(id=9, name='so2', units='ppm', display_name='SO₂'))],\n",
       " 'coordinates': Coordinates(latitude=-25.625702, longitude=27.851825),\n",
       " 'bounds': [27.851825, -25.625702, 27.851825, -25.625702],\n",
       " 'distance': None,\n",
       " 'datetime_first': Datetime(utc='2021-04-29T17:00:00Z', local='2021-04-29T19:00:00+02:00'),\n",
       " 'datetime_last': Datetime(utc='2024-02-29T22:00:00Z', local='2024-03-01T00:00:00+02:00')}"
      ]
     },
     "execution_count": 6,
     "metadata": {},
     "output_type": "execute_result"
    }
   ],
   "source": [
    "sa_bbox_search_locations.results[0].__dict__"
   ]
  },
  {
   "cell_type": "code",
   "execution_count": 7,
   "metadata": {},
   "outputs": [
    {
     "data": {
      "text/plain": [
       "{225393: 'Damonsville',\n",
       " 225400: 'Sebokeng',\n",
       " 225401: 'Bedfordview-NAQI',\n",
       " 225405: 'Bongani Mabaso Eco Park',\n",
       " 225406: 'Delmas MP',\n",
       " 225413: 'Leitrim',\n",
       " 225415: 'Marikana CC-NAQI',\n",
       " 225417: 'Zamdela-NAQI',\n",
       " 225419: 'Buccleugh-NAQI',\n",
       " 225424: 'Kliprivier',\n",
       " 225426: 'Olifantsfontein-NAQI',\n",
       " 225429: 'AJ Jacobs',\n",
       " 225430: 'Vanderbijlpark-NAQI',\n",
       " 225431: 'Balfour',\n",
       " 225434: 'Olievenhoutbosch-NAQI',\n",
       " 225436: 'Bodibeng-NAQI',\n",
       " 225437: 'Etwatwa-NAQI',\n",
       " 225439: 'Diepsloot',\n",
       " 225441: 'eMbalenhle North',\n",
       " 225445: 'Diepkloof-NAQI',\n",
       " 225446: 'Thokoza-NAQI',\n",
       " 225448: 'Jabavu-NAQI',\n",
       " 225449: 'Orange Farm',\n",
       " 225450: 'eMbalenhle South',\n",
       " 225451: 'Three Rivers',\n",
       " 225453: 'Booysens',\n",
       " 225455: 'Xanadu-NAQI',\n",
       " 225456: 'Alexandra-NAQI',\n",
       " 225459: 'Lebohang',\n",
       " 225461: 'Rosslyn-NAQI',\n",
       " 225462: 'Sharpeville',\n",
       " 225463: 'Embalenhle',\n",
       " 225662: 'Secunda',\n",
       " 225717: 'Ivory Park',\n",
       " 226316: 'Mamelodi',\n",
       " 229039: 'Springs-NAQI',\n",
       " 229192: 'North West University Vaal campus',\n",
       " 230803: 'Chicken Farm',\n",
       " 230806: 'Grootvlei - Eskom',\n",
       " 230811: 'Randwater',\n",
       " 230815: 'Mogale City',\n",
       " 230816: 'Eskom-Chicken Farm',\n",
       " 230817: 'Kendal',\n",
       " 230821: 'Phola',\n",
       " 234160: 'Tshwane Market',\n",
       " 234237: 'PTA West',\n",
       " 235851: 'Hammanskraal',\n",
       " 235950: 'Randfontein',\n",
       " 270294: 'Meyerton',\n",
       " 351880: 'ISAWS Laboratory',\n",
       " 352781: 'Wattville',\n",
       " 353596: 'Grootvlei - Sasol',\n",
       " 364067: 'Germiston - Delville',\n",
       " 364069: 'Tsakane',\n",
       " 364070: 'Boitekong',\n",
       " 409081: 'Davidsonville',\n",
       " 575078: 'Ekandustria',\n",
       " 1236026: 'North-West University Vanderbijilpark Campus',\n",
       " 1285341: 'SPARTAN - CSIR',\n",
       " 1321146: 'Glen Austin',\n",
       " 1321147: 'Midstream',\n",
       " 1362116: 'Glen Austin',\n",
       " 1447174: 'Mobile-Norplats',\n",
       " 1447175: 'Smashblock',\n",
       " 1527938: 'ES_Midstream',\n",
       " 1821379: 'ES_Heidelberg',\n",
       " 1869327: 'Quanta_Irene',\n",
       " 1888337: 'AMSA Vanderbijlpark Works',\n",
       " 1895692: 'Wonderkop Sibanye',\n",
       " 2385060: 'Eskom-Balmoral',\n",
       " 2385061: 'Eskom-Wilge',\n",
       " 2389721: 'Tembisa',\n",
       " 2506086: 'ES_Irene',\n",
       " 2847325: 'North-West University Vanderbijilpark Campus',\n",
       " 2847326: 'North-West University Vanderbijilpark Campus',\n",
       " 3021125: 'PTA-NORTH'}"
      ]
     },
     "execution_count": 7,
     "metadata": {},
     "output_type": "execute_result"
    }
   ],
   "source": [
    "locations_info = {}\n",
    "\n",
    "for location in sa_bbox_search_locations.results:\n",
    "\n",
    "    locations_info[location.id] = location.name\n",
    "\n",
    "locations_info"
   ]
  },
  {
   "cell_type": "code",
   "execution_count": 8,
   "metadata": {},
   "outputs": [
    {
     "data": {
      "text/plain": [
       "76"
      ]
     },
     "execution_count": 8,
     "metadata": {},
     "output_type": "execute_result"
    }
   ],
   "source": [
    "len(locations_info)"
   ]
  },
  {
   "cell_type": "code",
   "execution_count": 9,
   "metadata": {},
   "outputs": [],
   "source": [
    "with open(\"../locations.json\", \"w\", encoding=\"utf-8\") as f:\n",
    "    json.dump(locations_info, f, ensure_ascii=False, indent=4)\n",
    "    f.close()"
   ]
  },
  {
   "cell_type": "code",
   "execution_count": 10,
   "metadata": {},
   "outputs": [
    {
     "data": {
      "text/plain": [
       "Meta(name='openaq-api', website='/', page=1, limit=1000, found=37)"
      ]
     },
     "execution_count": 10,
     "metadata": {},
     "output_type": "execute_result"
    }
   ],
   "source": [
    "kzn_bbox_search_locations = client.locations.list(\n",
    "    bbox=(29.311523,-30.902225,31.508789,-28.304381),\n",
    "    limit=1000\n",
    ")\n",
    "\n",
    "kzn_bbox_search_locations.meta"
   ]
  },
  {
   "cell_type": "code",
   "execution_count": 11,
   "metadata": {},
   "outputs": [
    {
     "data": {
      "text/plain": [
       "[Location(id=225403, name='Wentworth Reservior-NAQI', locality='eThekwini Metro', timezone='Africa/Johannesburg', country=CountryBase(id=37, code='ZA', name='South Africa'), owner=OwnerBase(id=4, name='Unknown Governmental Organization'), provider=ProviderBase(id=225, name='South Africa'), is_mobile=False, is_monitor=True, instruments=[InstrumentBase(id=2, name='Government Monitor')], sensors=[SensorBase(id=1303398, name='pm10 µg/m³', parameter=ParameterBase(id=1, name='pm10', units='µg/m³', display_name='PM10')), SensorBase(id=1303490, name='pm25 µg/m³', parameter=ParameterBase(id=2, name='pm25', units='µg/m³', display_name='PM2.5')), SensorBase(id=1303484, name='so2 ppm', parameter=ParameterBase(id=9, name='so2', units='ppm', display_name='SO₂'))], coordinates=Coordinates(latitude=-29.934094, longitude=30.988622000000003), bounds=[30.988622000000003, -29.934094, 30.988622000000003, -29.934094], distance=None, datetime_first=Datetime(utc='2021-04-29T16:00:00Z', local='2021-04-29T18:00:00+02:00'), datetime_last=Datetime(utc='2023-12-20T14:00:00Z', local='2023-12-20T16:00:00+02:00')),\n",
       " Location(id=225407, name='Hambanathi Tongaat', locality='eThekwini Metro', timezone='Africa/Johannesburg', country=CountryBase(id=37, code='ZA', name='South Africa'), owner=OwnerBase(id=4, name='Unknown Governmental Organization'), provider=ProviderBase(id=225, name='South Africa'), is_mobile=False, is_monitor=True, instruments=[InstrumentBase(id=2, name='Government Monitor')], sensors=[SensorBase(id=1303389, name='pm10 µg/m³', parameter=ParameterBase(id=1, name='pm10', units='µg/m³', display_name='PM10')), SensorBase(id=1303404, name='pm25 µg/m³', parameter=ParameterBase(id=2, name='pm25', units='µg/m³', display_name='PM2.5')), SensorBase(id=1303382, name='so2 ppm', parameter=ParameterBase(id=9, name='so2', units='ppm', display_name='SO₂'))], coordinates=Coordinates(latitude=-29.557419444444395, longitude=31.120063888888904), bounds=[31.120063888888904, -29.557419444444395, 31.120063888888904, -29.557419444444395], distance=None, datetime_first=Datetime(utc='2021-04-29T17:00:00Z', local='2021-04-29T19:00:00+02:00'), datetime_last=Datetime(utc='2024-03-12T10:00:00Z', local='2024-03-12T12:00:00+02:00')),\n",
       " Location(id=225414, name='Edendale', locality='uMgungundlovu', timezone='Africa/Johannesburg', country=CountryBase(id=37, code='ZA', name='South Africa'), owner=OwnerBase(id=4, name='Unknown Governmental Organization'), provider=ProviderBase(id=225, name='South Africa'), is_mobile=False, is_monitor=True, instruments=[InstrumentBase(id=2, name='Government Monitor')], sensors=[SensorBase(id=1303399, name='so2 ppm', parameter=ParameterBase(id=9, name='so2', units='ppm', display_name='SO₂'))], coordinates=Coordinates(latitude=-29.637968, longitude=30.344507), bounds=[30.344507, -29.637968, 30.344507, -29.637968], distance=None, datetime_first=Datetime(utc='2021-04-29T17:00:00Z', local='2021-04-29T19:00:00+02:00'), datetime_last=Datetime(utc='2024-03-07T20:00:00Z', local='2024-03-07T22:00:00+02:00')),\n",
       " Location(id=225428, name='Pietermaritzburg Airport - ORIBI', locality='uMgungundlovu', timezone='Africa/Johannesburg', country=CountryBase(id=37, code='ZA', name='South Africa'), owner=OwnerBase(id=4, name='Unknown Governmental Organization'), provider=ProviderBase(id=225, name='South Africa'), is_mobile=False, is_monitor=True, instruments=[InstrumentBase(id=2, name='Government Monitor')], sensors=[SensorBase(id=4275879, name='no ppm', parameter=ParameterBase(id=35, name='no', units='ppm', display_name='NO')), SensorBase(id=1303493, name='no2 ppm', parameter=ParameterBase(id=7, name='no2', units='ppm', display_name='NO₂')), SensorBase(id=4275929, name='nox ppm', parameter=ParameterBase(id=19840, name='nox', units='ppm', display_name='NOx')), SensorBase(id=1303607, name='o3 ppm', parameter=ParameterBase(id=10, name='o3', units='ppm', display_name='O₃')), SensorBase(id=1303433, name='pm10 µg/m³', parameter=ParameterBase(id=1, name='pm10', units='µg/m³', display_name='PM10')), SensorBase(id=1303454, name='pm25 µg/m³', parameter=ParameterBase(id=2, name='pm25', units='µg/m³', display_name='PM2.5')), SensorBase(id=1303432, name='so2 ppm', parameter=ParameterBase(id=9, name='so2', units='ppm', display_name='SO₂'))], coordinates=Coordinates(latitude=-29.637582999999996, longitude=30.337389), bounds=[30.337389, -29.637582999999996, 30.337389, -29.637582999999996], distance=None, datetime_first=Datetime(utc='2021-04-29T17:00:00Z', local='2021-04-29T19:00:00+02:00'), datetime_last=Datetime(utc='2024-03-12T10:00:00Z', local='2024-03-12T12:00:00+02:00')),\n",
       " Location(id=225442, name='Settlers-NAQI', locality='eThekwini Metro', timezone='Africa/Johannesburg', country=CountryBase(id=37, code='ZA', name='South Africa'), owner=OwnerBase(id=4, name='Unknown Governmental Organization'), provider=ProviderBase(id=225, name='South Africa'), is_mobile=False, is_monitor=True, instruments=[InstrumentBase(id=2, name='Government Monitor')], sensors=[SensorBase(id=1303403, name='pm10 µg/m³', parameter=ParameterBase(id=1, name='pm10', units='µg/m³', display_name='PM10')), SensorBase(id=1303651, name='pm25 µg/m³', parameter=ParameterBase(id=2, name='pm25', units='µg/m³', display_name='PM2.5')), SensorBase(id=1303565, name='so2 ppm', parameter=ParameterBase(id=9, name='so2', units='ppm', display_name='SO₂'))], coordinates=Coordinates(latitude=-29.958742, longitude=30.978717), bounds=[30.978717, -29.958742, 30.978717, -29.958742], distance=None, datetime_first=Datetime(utc='2021-04-29T17:00:00Z', local='2021-04-29T19:00:00+02:00'), datetime_last=Datetime(utc='2024-03-12T08:00:00Z', local='2024-03-12T10:00:00+02:00')),\n",
       " Location(id=225460, name='Pietermaritzburg - CBD', locality='uMgungundlovu', timezone='Africa/Johannesburg', country=CountryBase(id=37, code='ZA', name='South Africa'), owner=OwnerBase(id=4, name='Unknown Governmental Organization'), provider=ProviderBase(id=225, name='South Africa'), is_mobile=False, is_monitor=True, instruments=[InstrumentBase(id=2, name='Government Monitor')], sensors=[SensorBase(id=1303545, name='co ppm', parameter=ParameterBase(id=8, name='co', units='ppm', display_name='CO')), SensorBase(id=4277249, name='no ppm', parameter=ParameterBase(id=35, name='no', units='ppm', display_name='NO')), SensorBase(id=1303473, name='no2 ppm', parameter=ParameterBase(id=7, name='no2', units='ppm', display_name='NO₂')), SensorBase(id=4277295, name='nox ppm', parameter=ParameterBase(id=19840, name='nox', units='ppm', display_name='NOx')), SensorBase(id=1303422, name='so2 ppm', parameter=ParameterBase(id=9, name='so2', units='ppm', display_name='SO₂'))], coordinates=Coordinates(latitude=-29.602056, longitude=30.380611), bounds=[30.380611, -29.602056, 30.380611, -29.602056], distance=None, datetime_first=Datetime(utc='2021-04-29T17:00:00Z', local='2021-04-29T19:00:00+02:00'), datetime_last=Datetime(utc='2024-03-12T10:00:00Z', local='2024-03-12T12:00:00+02:00')),\n",
       " Location(id=225488, name='Prospecton', locality='eThekwini Metro', timezone='Africa/Johannesburg', country=CountryBase(id=37, code='ZA', name='South Africa'), owner=OwnerBase(id=4, name='Unknown Governmental Organization'), provider=ProviderBase(id=225, name='South Africa'), is_mobile=False, is_monitor=True, instruments=[InstrumentBase(id=2, name='Government Monitor')], sensors=[SensorBase(id=1303771, name='so2 ppm', parameter=ParameterBase(id=9, name='so2', units='ppm', display_name='SO₂'))], coordinates=Coordinates(latitude=-30.002861, longitude=30.928778), bounds=[30.928778, -30.002861, 30.928778, -30.002861], distance=None, datetime_first=Datetime(utc='2021-04-29T17:00:00Z', local='2021-04-29T19:00:00+02:00'), datetime_last=Datetime(utc='2024-03-12T11:00:00Z', local='2024-03-12T13:00:00+02:00')),\n",
       " Location(id=225517, name='Southern Works', locality='eThekwini Metro', timezone='Africa/Johannesburg', country=CountryBase(id=37, code='ZA', name='South Africa'), owner=OwnerBase(id=4, name='Unknown Governmental Organization'), provider=ProviderBase(id=225, name='South Africa'), is_mobile=False, is_monitor=True, instruments=[InstrumentBase(id=2, name='Government Monitor')], sensors=[SensorBase(id=1303882, name='so2 ppm', parameter=ParameterBase(id=9, name='so2', units='ppm', display_name='SO₂'))], coordinates=Coordinates(latitude=-29.95696, longitude=30.973266), bounds=[30.973266, -29.95696, 30.973266, -29.95696], distance=None, datetime_first=Datetime(utc='2021-04-29T17:00:00Z', local='2021-04-29T19:00:00+02:00'), datetime_last=Datetime(utc='2022-06-13T10:00:00Z', local='2022-06-13T12:00:00+02:00')),\n",
       " Location(id=225526, name='City Hall - Durban-NAQI', locality='eThekwini Metro', timezone='Africa/Johannesburg', country=CountryBase(id=37, code='ZA', name='South Africa'), owner=OwnerBase(id=4, name='Unknown Governmental Organization'), provider=ProviderBase(id=225, name='South Africa'), is_mobile=False, is_monitor=True, instruments=[InstrumentBase(id=2, name='Government Monitor')], sensors=[SensorBase(id=1303896, name='pm10 µg/m³', parameter=ParameterBase(id=1, name='pm10', units='µg/m³', display_name='PM10')), SensorBase(id=1303909, name='pm25 µg/m³', parameter=ParameterBase(id=2, name='pm25', units='µg/m³', display_name='PM2.5')), SensorBase(id=1303749, name='so2 ppm', parameter=ParameterBase(id=9, name='so2', units='ppm', display_name='SO₂'))], coordinates=Coordinates(latitude=-29.858283, longitude=31.027286), bounds=[31.027286, -29.858283, 31.027286, -29.858283], distance=None, datetime_first=Datetime(utc='2021-04-29T17:00:00Z', local='2021-04-29T19:00:00+02:00'), datetime_last=Datetime(utc='2024-02-23T01:00:00Z', local='2024-02-23T03:00:00+02:00')),\n",
       " Location(id=225527, name='Amanzimtoti', locality='eThekwini Metro', timezone='Africa/Johannesburg', country=CountryBase(id=37, code='ZA', name='South Africa'), owner=OwnerBase(id=4, name='Unknown Governmental Organization'), provider=ProviderBase(id=225, name='South Africa'), is_mobile=False, is_monitor=True, instruments=[InstrumentBase(id=2, name='Government Monitor')], sensors=[SensorBase(id=1303760, name='pm10 µg/m³', parameter=ParameterBase(id=1, name='pm10', units='µg/m³', display_name='PM10')), SensorBase(id=1303858, name='pm25 µg/m³', parameter=ParameterBase(id=2, name='pm25', units='µg/m³', display_name='PM2.5')), SensorBase(id=1303768, name='so2 ppm', parameter=ParameterBase(id=9, name='so2', units='ppm', display_name='SO₂'))], coordinates=Coordinates(latitude=-30.033225, longitude=30.890176), bounds=[30.890176, -30.033225, 30.890176, -30.033225], distance=None, datetime_first=Datetime(utc='2021-04-29T17:00:00Z', local='2021-04-29T19:00:00+02:00'), datetime_last=Datetime(utc='2024-03-03T21:00:00Z', local='2024-03-03T23:00:00+02:00')),\n",
       " Location(id=225532, name='Warwick', locality=None, timezone='Africa/Johannesburg', country=CountryBase(id=37, code='ZA', name='South Africa'), owner=OwnerBase(id=4, name='Unknown Governmental Organization'), provider=ProviderBase(id=225, name='South Africa'), is_mobile=False, is_monitor=True, instruments=[InstrumentBase(id=2, name='Government Monitor')], sensors=[SensorBase(id=1303836, name='co ppm', parameter=ParameterBase(id=8, name='co', units='ppm', display_name='CO'))], coordinates=Coordinates(latitude=-29.854633, longitude=31.011831), bounds=[31.011831, -29.854633, 31.011831, -29.854633], distance=None, datetime_first=Datetime(utc='2021-04-29T17:00:00Z', local='2021-04-29T19:00:00+02:00'), datetime_last=Datetime(utc='2021-07-20T21:00:00Z', local='2021-07-20T23:00:00+02:00')),\n",
       " Location(id=225535, name='Umkomaas', locality='eThekwini Metro', timezone='Africa/Johannesburg', country=CountryBase(id=37, code='ZA', name='South Africa'), owner=OwnerBase(id=4, name='Unknown Governmental Organization'), provider=ProviderBase(id=225, name='South Africa'), is_mobile=False, is_monitor=True, instruments=[InstrumentBase(id=2, name='Government Monitor')], sensors=[SensorBase(id=1303797, name='co ppm', parameter=ParameterBase(id=8, name='co', units='ppm', display_name='CO')), SensorBase(id=1303947, name='o3 ppm', parameter=ParameterBase(id=10, name='o3', units='ppm', display_name='O₃')), SensorBase(id=1303721, name='pm10 µg/m³', parameter=ParameterBase(id=1, name='pm10', units='µg/m³', display_name='PM10')), SensorBase(id=1303823, name='pm25 µg/m³', parameter=ParameterBase(id=2, name='pm25', units='µg/m³', display_name='PM2.5')), SensorBase(id=1303869, name='so2 ppm', parameter=ParameterBase(id=9, name='so2', units='ppm', display_name='SO₂'))], coordinates=Coordinates(latitude=-30.20803, longitude=30.78202), bounds=[30.78202, -30.20803, 30.78202, -30.20803], distance=None, datetime_first=Datetime(utc='2021-04-29T18:00:00Z', local='2021-04-29T20:00:00+02:00'), datetime_last=Datetime(utc='2023-12-04T13:00:00Z', local='2023-12-04T15:00:00+02:00')),\n",
       " Location(id=225539, name='Grosvenor', locality='eThekwini Metro', timezone='Africa/Johannesburg', country=CountryBase(id=37, code='ZA', name='South Africa'), owner=OwnerBase(id=4, name='Unknown Governmental Organization'), provider=ProviderBase(id=225, name='South Africa'), is_mobile=False, is_monitor=True, instruments=[InstrumentBase(id=2, name='Government Monitor')], sensors=[SensorBase(id=1303813, name='so2 ppm', parameter=ParameterBase(id=9, name='so2', units='ppm', display_name='SO₂'))], coordinates=Coordinates(latitude=-29.921786, longitude=31.00494), bounds=[31.00494, -29.921786, 31.00494, -29.921786], distance=None, datetime_first=Datetime(utc='2021-04-29T17:00:00Z', local='2021-04-29T19:00:00+02:00'), datetime_last=Datetime(utc='2024-02-16T23:00:00Z', local='2024-02-17T01:00:00+02:00')),\n",
       " Location(id=225550, name='Jacobs Balfour', locality='eThekwini Metro', timezone='Africa/Johannesburg', country=CountryBase(id=37, code='ZA', name='South Africa'), owner=OwnerBase(id=4, name='Unknown Governmental Organization'), provider=ProviderBase(id=225, name='South Africa'), is_mobile=False, is_monitor=True, instruments=[InstrumentBase(id=2, name='Government Monitor')], sensors=[SensorBase(id=1303924, name='so2 ppm', parameter=ParameterBase(id=9, name='so2', units='ppm', display_name='SO₂'))], coordinates=Coordinates(latitude=-29.928859, longitude=30.973483), bounds=[30.973483, -29.928859, 30.973483, -29.928859], distance=None, datetime_first=Datetime(utc='2021-04-29T17:00:00Z', local='2021-04-29T19:00:00+02:00'), datetime_last=Datetime(utc='2024-01-12T10:00:00Z', local='2024-01-12T12:00:00+02:00')),\n",
       " Location(id=225608, name='Cato Ridge', locality='eThekwini Metro', timezone='Africa/Johannesburg', country=CountryBase(id=37, code='ZA', name='South Africa'), owner=OwnerBase(id=4, name='Unknown Governmental Organization'), provider=ProviderBase(id=225, name='South Africa'), is_mobile=False, is_monitor=True, instruments=[InstrumentBase(id=2, name='Government Monitor')], sensors=[SensorBase(id=1304080, name='pm10 µg/m³', parameter=ParameterBase(id=1, name='pm10', units='µg/m³', display_name='PM10')), SensorBase(id=1304429, name='pm25 µg/m³', parameter=ParameterBase(id=2, name='pm25', units='µg/m³', display_name='PM2.5')), SensorBase(id=1304226, name='so2 ppm', parameter=ParameterBase(id=9, name='so2', units='ppm', display_name='SO₂'))], coordinates=Coordinates(latitude=-29.73575, longitude=30.587543999999998), bounds=[30.587543999999998, -29.73575, 30.587543999999998, -29.73575], distance=None, datetime_first=Datetime(utc='2021-04-29T18:00:00Z', local='2021-04-29T20:00:00+02:00'), datetime_last=Datetime(utc='2022-05-11T09:00:00Z', local='2022-05-11T11:00:00+02:00')),\n",
       " Location(id=225670, name='Ganges-NAQI', locality=None, timezone='Africa/Johannesburg', country=CountryBase(id=37, code='ZA', name='South Africa'), owner=OwnerBase(id=4, name='Unknown Governmental Organization'), provider=ProviderBase(id=225, name='South Africa'), is_mobile=False, is_monitor=True, instruments=[InstrumentBase(id=2, name='Government Monitor')], sensors=[SensorBase(id=1304083, name='no2 ppm', parameter=ParameterBase(id=7, name='no2', units='ppm', display_name='NO₂')), SensorBase(id=1304190, name='pm10 µg/m³', parameter=ParameterBase(id=1, name='pm10', units='µg/m³', display_name='PM10')), SensorBase(id=1304410, name='pm25 µg/m³', parameter=ParameterBase(id=2, name='pm25', units='µg/m³', display_name='PM2.5')), SensorBase(id=1304215, name='so2 ppm', parameter=ParameterBase(id=9, name='so2', units='ppm', display_name='SO₂'))], coordinates=Coordinates(latitude=-29.948517, longitude=30.964597), bounds=[30.964597, -29.948517, 30.964597, -29.948517], distance=None, datetime_first=Datetime(utc='2021-04-29T18:00:00Z', local='2021-04-29T20:00:00+02:00'), datetime_last=Datetime(utc='2021-10-08T17:00:00Z', local='2021-10-08T19:00:00+02:00')),\n",
       " Location(id=225703, name='Alverstone', locality=None, timezone='Africa/Johannesburg', country=CountryBase(id=37, code='ZA', name='South Africa'), owner=OwnerBase(id=4, name='Unknown Governmental Organization'), provider=ProviderBase(id=225, name='South Africa'), is_mobile=False, is_monitor=True, instruments=[InstrumentBase(id=2, name='Government Monitor')], sensors=[SensorBase(id=1304488, name='o3 ppm', parameter=ParameterBase(id=10, name='o3', units='ppm', display_name='O₃'))], coordinates=Coordinates(latitude=-29.776167, longitude=30.732139), bounds=[30.732139, -29.776167, 30.732139, -29.776167], distance=None, datetime_first=Datetime(utc='2021-04-29T20:00:00Z', local='2021-04-29T22:00:00+02:00'), datetime_last=Datetime(utc='2021-06-01T00:00:00Z', local='2021-06-01T02:00:00+02:00')),\n",
       " Location(id=226050, name='New Germany', locality='eThekwini Metro', timezone='Africa/Johannesburg', country=CountryBase(id=37, code='ZA', name='South Africa'), owner=OwnerBase(id=4, name='Unknown Governmental Organization'), provider=ProviderBase(id=225, name='South Africa'), is_mobile=False, is_monitor=True, instruments=[InstrumentBase(id=2, name='Government Monitor')], sensors=[SensorBase(id=1305741, name='pm10 µg/m³', parameter=ParameterBase(id=1, name='pm10', units='µg/m³', display_name='PM10')), SensorBase(id=1305737, name='pm25 µg/m³', parameter=ParameterBase(id=2, name='pm25', units='µg/m³', display_name='PM2.5')), SensorBase(id=1305740, name='so2 ppm', parameter=ParameterBase(id=9, name='so2', units='ppm', display_name='SO₂'))], coordinates=Coordinates(latitude=-29.798653, longitude=30.876572), bounds=[30.876572, -29.798653, 30.876572, -29.798653], distance=None, datetime_first=Datetime(utc='2021-05-04T16:00:00Z', local='2021-05-04T18:00:00+02:00'), datetime_last=Datetime(utc='2024-03-12T11:00:00Z', local='2024-03-12T13:00:00+02:00')),\n",
       " Location(id=1236042, name='CAP / PLE2, KZN, ZA.', locality=None, timezone='Africa/Johannesburg', country=CountryBase(id=37, code='ZA', name='South Africa'), owner=OwnerBase(id=4, name='Unknown Governmental Organization'), provider=ProviderBase(id=66, name='AirGradient'), is_mobile=False, is_monitor=False, instruments=[InstrumentBase(id=7, name='AirGradient Sensor')], sensors=[SensorBase(id=7970644, name='pm1 µg/m³', parameter=ParameterBase(id=19, name='pm1', units='µg/m³', display_name='PM1')), SensorBase(id=7970675, name='pm10 µg/m³', parameter=ParameterBase(id=1, name='pm10', units='µg/m³', display_name='PM10')), SensorBase(id=6530274, name='pm25 µg/m³', parameter=ParameterBase(id=2, name='pm25', units='µg/m³', display_name='PM2.5')), SensorBase(id=7970686, name='relativehumidity %', parameter=ParameterBase(id=98, name='relativehumidity', units='%', display_name='RH')), SensorBase(id=6530273, name='temperature c', parameter=ParameterBase(id=100, name='temperature', units='c', display_name='Temperature (C)')), SensorBase(id=7970657, name='um003 particles/cm³', parameter=ParameterBase(id=125, name='um003', units='particles/cm³', display_name='PM0.3 count'))], coordinates=Coordinates(latitude=-29.43461, longitude=31.252426), bounds=[31.252426, -29.43461, 31.252426, -29.43461], distance=None, datetime_first=Datetime(utc='2023-07-15T13:00:00Z', local='2023-07-15T15:00:00+02:00'), datetime_last=Datetime(utc='2024-08-23T05:00:00Z', local='2024-08-23T07:00:00+02:00')),\n",
       " Location(id=1236046, name='CAP / PLE, KZN, ZA.', locality=None, timezone='Africa/Johannesburg', country=CountryBase(id=37, code='ZA', name='South Africa'), owner=OwnerBase(id=4, name='Unknown Governmental Organization'), provider=ProviderBase(id=66, name='AirGradient'), is_mobile=False, is_monitor=False, instruments=[InstrumentBase(id=7, name='AirGradient Sensor')], sensors=[SensorBase(id=7972482, name='pm1 µg/m³', parameter=ParameterBase(id=19, name='pm1', units='µg/m³', display_name='PM1')), SensorBase(id=7972528, name='pm10 µg/m³', parameter=ParameterBase(id=1, name='pm10', units='µg/m³', display_name='PM10')), SensorBase(id=6530277, name='pm25 µg/m³', parameter=ParameterBase(id=2, name='pm25', units='µg/m³', display_name='PM2.5')), SensorBase(id=7972539, name='relativehumidity %', parameter=ParameterBase(id=98, name='relativehumidity', units='%', display_name='RH')), SensorBase(id=6530271, name='temperature c', parameter=ParameterBase(id=100, name='temperature', units='c', display_name='Temperature (C)')), SensorBase(id=7972516, name='um003 particles/cm³', parameter=ParameterBase(id=125, name='um003', units='particles/cm³', display_name='PM0.3 count'))], coordinates=Coordinates(latitude=-29.43461, longitude=31.252426), bounds=[31.252426, -29.43461, 31.252426, -29.43461], distance=None, datetime_first=Datetime(utc='2023-07-15T13:00:00Z', local='2023-07-15T15:00:00+02:00'), datetime_last=Datetime(utc='2024-11-15T18:00:00Z', local='2024-11-15T20:00:00+02:00')),\n",
       " Location(id=1291735, name='Ugu District ', locality='Port Shepstone', timezone='Africa/Johannesburg', country=CountryBase(id=37, code='ZA', name='South Africa'), owner=OwnerBase(id=4, name='Unknown Governmental Organization'), provider=ProviderBase(id=225, name='South Africa'), is_mobile=False, is_monitor=True, instruments=[InstrumentBase(id=2, name='Government Monitor')], sensors=[SensorBase(id=6576164, name='pm10 µg/m³', parameter=ParameterBase(id=1, name='pm10', units='µg/m³', display_name='PM10')), SensorBase(id=6576165, name='pm25 µg/m³', parameter=ParameterBase(id=2, name='pm25', units='µg/m³', display_name='PM2.5'))], coordinates=Coordinates(latitude=-30.727452, longitude=30.447407), bounds=[30.447407, -30.727452, 30.447407, -30.727452], distance=None, datetime_first=Datetime(utc='2023-07-20T06:00:00Z', local='2023-07-20T08:00:00+02:00'), datetime_last=Datetime(utc='2023-07-20T08:00:00Z', local='2023-07-20T10:00:00+02:00')),\n",
       " Location(id=1292268, name='Ugu District', locality='Port Shepstone', timezone='Africa/Johannesburg', country=CountryBase(id=37, code='ZA', name='South Africa'), owner=OwnerBase(id=4, name='Unknown Governmental Organization'), provider=ProviderBase(id=225, name='South Africa'), is_mobile=False, is_monitor=True, instruments=[InstrumentBase(id=2, name='Government Monitor')], sensors=[SensorBase(id=6577005, name='pm10 µg/m³', parameter=ParameterBase(id=1, name='pm10', units='µg/m³', display_name='PM10')), SensorBase(id=6577006, name='pm25 µg/m³', parameter=ParameterBase(id=2, name='pm25', units='µg/m³', display_name='PM2.5'))], coordinates=Coordinates(latitude=-30.752442, longitude=30.435154), bounds=[30.435154, -30.752442, 30.435154, -30.752442], distance=None, datetime_first=Datetime(utc='2023-07-20T09:00:00Z', local='2023-07-20T11:00:00+02:00'), datetime_last=Datetime(utc='2024-03-12T10:00:00Z', local='2024-03-12T12:00:00+02:00')),\n",
       " Location(id=1373118, name='CAP / UPS, KZN, ZA.', locality=None, timezone='Africa/Johannesburg', country=CountryBase(id=37, code='ZA', name='South Africa'), owner=OwnerBase(id=4, name='Unknown Governmental Organization'), provider=ProviderBase(id=66, name='AirGradient'), is_mobile=False, is_monitor=False, instruments=[InstrumentBase(id=1, name='N/A'), InstrumentBase(id=7, name='AirGradient Sensor')], sensors=[SensorBase(id=7979400, name='pm1 µg/m³', parameter=ParameterBase(id=19, name='pm1', units='µg/m³', display_name='PM1')), SensorBase(id=7971018, name='pm1 µg/m³', parameter=ParameterBase(id=19, name='pm1', units='µg/m³', display_name='PM1')), SensorBase(id=7971327, name='pm10 µg/m³', parameter=ParameterBase(id=1, name='pm10', units='µg/m³', display_name='PM10')), SensorBase(id=7979416, name='pm10 µg/m³', parameter=ParameterBase(id=1, name='pm10', units='µg/m³', display_name='PM10')), SensorBase(id=6670179, name='pm25 µg/m³', parameter=ParameterBase(id=2, name='pm25', units='µg/m³', display_name='PM2.5')), SensorBase(id=7972483, name='relativehumidity %', parameter=ParameterBase(id=98, name='relativehumidity', units='%', display_name='RH')), SensorBase(id=6670180, name='temperature c', parameter=ParameterBase(id=100, name='temperature', units='c', display_name='Temperature (C)')), SensorBase(id=7972493, name='um003 particles/cm³', parameter=ParameterBase(id=125, name='um003', units='particles/cm³', display_name='PM0.3 count'))], coordinates=Coordinates(latitude=-29.474064086378867, longitude=31.217175925356035), bounds=[31.217175925356035, -29.474064086378867, 31.217175925356035, -29.474064086378867], distance=None, datetime_first=Datetime(utc='2023-08-02T17:00:00Z', local='2023-08-02T19:00:00+02:00'), datetime_last=Datetime(utc='2024-11-15T18:00:00Z', local='2024-11-15T20:00:00+02:00')),\n",
       " Location(id=1375629, name='CAP - B005, KZN, ZA.', locality=None, timezone='Africa/Johannesburg', country=CountryBase(id=37, code='ZA', name='South Africa'), owner=OwnerBase(id=4, name='Unknown Governmental Organization'), provider=ProviderBase(id=66, name='AirGradient'), is_mobile=False, is_monitor=False, instruments=[InstrumentBase(id=7, name='AirGradient Sensor')], sensors=[SensorBase(id=6674769, name='pm25 µg/m³', parameter=ParameterBase(id=2, name='pm25', units='µg/m³', display_name='PM2.5')), SensorBase(id=6674795, name='temperature c', parameter=ParameterBase(id=100, name='temperature', units='c', display_name='Temperature (C)'))], coordinates=Coordinates(latitude=-29.484169132794797, longitude=31.24191692887497), bounds=[31.24191692887497, -29.484169132794797, 31.24191692887497, -29.484169132794797], distance=None, datetime_first=Datetime(utc='2023-08-03T07:00:00Z', local='2023-08-03T09:00:00+02:00'), datetime_last=Datetime(utc='2023-09-12T11:00:00Z', local='2023-09-12T13:00:00+02:00')),\n",
       " Location(id=1377024, name='CAP CR, KZN, ZA. AirGradient', locality=None, timezone='Africa/Johannesburg', country=CountryBase(id=37, code='ZA', name='South Africa'), owner=OwnerBase(id=4, name='Unknown Governmental Organization'), provider=ProviderBase(id=66, name='AirGradient'), is_mobile=False, is_monitor=False, instruments=[InstrumentBase(id=7, name='AirGradient Sensor')], sensors=[SensorBase(id=6676863, name='pm25 µg/m³', parameter=ParameterBase(id=2, name='pm25', units='µg/m³', display_name='PM2.5')), SensorBase(id=6676854, name='temperature c', parameter=ParameterBase(id=100, name='temperature', units='c', display_name='Temperature (C)'))], coordinates=Coordinates(latitude=-29.738492015644944, longitude=30.586264733388184), bounds=[30.586264733388184, -29.738492015644944, 30.586264733388184, -29.738492015644944], distance=None, datetime_first=Datetime(utc='2023-08-03T15:00:00Z', local='2023-08-03T17:00:00+02:00'), datetime_last=Datetime(utc='2023-08-05T09:00:00Z', local='2023-08-05T11:00:00+02:00')),\n",
       " Location(id=1381631, name='CAP / SEE, KZN, ZA.', locality=None, timezone='Africa/Johannesburg', country=CountryBase(id=37, code='ZA', name='South Africa'), owner=OwnerBase(id=4, name='Unknown Governmental Organization'), provider=ProviderBase(id=66, name='AirGradient'), is_mobile=False, is_monitor=False, instruments=[InstrumentBase(id=1, name='N/A'), InstrumentBase(id=7, name='AirGradient Sensor')], sensors=[SensorBase(id=7979168, name='pm1 µg/m³', parameter=ParameterBase(id=19, name='pm1', units='µg/m³', display_name='PM1')), SensorBase(id=7971154, name='pm1 µg/m³', parameter=ParameterBase(id=19, name='pm1', units='µg/m³', display_name='PM1')), SensorBase(id=7970835, name='pm10 µg/m³', parameter=ParameterBase(id=1, name='pm10', units='µg/m³', display_name='PM10')), SensorBase(id=7979189, name='pm10 µg/m³', parameter=ParameterBase(id=1, name='pm10', units='µg/m³', display_name='PM10')), SensorBase(id=6684121, name='pm25 µg/m³', parameter=ParameterBase(id=2, name='pm25', units='µg/m³', display_name='PM2.5')), SensorBase(id=7972574, name='relativehumidity %', parameter=ParameterBase(id=98, name='relativehumidity', units='%', display_name='RH')), SensorBase(id=6684122, name='temperature c', parameter=ParameterBase(id=100, name='temperature', units='c', display_name='Temperature (C)')), SensorBase(id=7972548, name='um003 particles/cm³', parameter=ParameterBase(id=125, name='um003', units='particles/cm³', display_name='PM0.3 count'))], coordinates=Coordinates(latitude=-29.511855996782025, longitude=31.217226783762918), bounds=[31.217226783762918, -29.511855996782025, 31.217226783762918, -29.511855996782025], distance=None, datetime_first=Datetime(utc='2023-08-04T15:00:00Z', local='2023-08-04T17:00:00+02:00'), datetime_last=Datetime(utc='2024-11-12T20:00:00Z', local='2024-11-12T22:00:00+02:00')),\n",
       " Location(id=1549242, name='Brettenwood Coastal Estate', locality=None, timezone='Africa/Johannesburg', country=CountryBase(id=37, code='ZA', name='South Africa'), owner=OwnerBase(id=4, name='Unknown Governmental Organization'), provider=ProviderBase(id=66, name='AirGradient'), is_mobile=False, is_monitor=False, instruments=[InstrumentBase(id=1, name='N/A'), InstrumentBase(id=7, name='AirGradient Sensor')], sensors=[SensorBase(id=7979913, name='pm1 µg/m³', parameter=ParameterBase(id=19, name='pm1', units='µg/m³', display_name='PM1')), SensorBase(id=7971174, name='pm1 µg/m³', parameter=ParameterBase(id=19, name='pm1', units='µg/m³', display_name='PM1')), SensorBase(id=7971220, name='pm10 µg/m³', parameter=ParameterBase(id=1, name='pm10', units='µg/m³', display_name='PM10')), SensorBase(id=7979932, name='pm10 µg/m³', parameter=ParameterBase(id=1, name='pm10', units='µg/m³', display_name='PM10')), SensorBase(id=6918461, name='pm25 µg/m³', parameter=ParameterBase(id=2, name='pm25', units='µg/m³', display_name='PM2.5')), SensorBase(id=7972783, name='relativehumidity %', parameter=ParameterBase(id=98, name='relativehumidity', units='%', display_name='RH')), SensorBase(id=6918450, name='temperature c', parameter=ParameterBase(id=100, name='temperature', units='c', display_name='Temperature (C)')), SensorBase(id=7972824, name='um003 particles/cm³', parameter=ParameterBase(id=125, name='um003', units='particles/cm³', display_name='PM0.3 count'))], coordinates=Coordinates(latitude=-29.49, longitude=31.24), bounds=[31.24, -29.49, 31.24, -29.49], distance=None, datetime_first=Datetime(utc='2023-09-09T06:00:00Z', local='2023-09-09T08:00:00+02:00'), datetime_last=Datetime(utc='2024-11-15T18:00:00Z', local='2024-11-15T20:00:00+02:00')),\n",
       " Location(id=1760677, name='Cato Ridge', locality='eThekwini Metro', timezone='Africa/Johannesburg', country=CountryBase(id=37, code='ZA', name='South Africa'), owner=OwnerBase(id=4, name='Unknown Governmental Organization'), provider=ProviderBase(id=225, name='South Africa'), is_mobile=False, is_monitor=True, instruments=[InstrumentBase(id=2, name='Government Monitor')], sensors=[SensorBase(id=7296706, name='pm10 µg/m³', parameter=ParameterBase(id=1, name='pm10', units='µg/m³', display_name='PM10')), SensorBase(id=7296707, name='pm25 µg/m³', parameter=ParameterBase(id=2, name='pm25', units='µg/m³', display_name='PM2.5')), SensorBase(id=7296709, name='so2 ppm', parameter=ParameterBase(id=9, name='so2', units='ppm', display_name='SO₂'))], coordinates=Coordinates(latitude=-29.723754, longitude=30.651493), bounds=[30.651493, -29.723754, 30.651493, -29.723754], distance=None, datetime_first=Datetime(utc='2022-05-11T09:00:00Z', local='2022-05-11T11:00:00+02:00'), datetime_last=Datetime(utc='2022-05-11T09:00:00Z', local='2022-05-11T11:00:00+02:00')),\n",
       " Location(id=2483823, name='CAP / DOO, KZN, ZA.', locality=None, timezone='Africa/Johannesburg', country=CountryBase(id=37, code='ZA', name='South Africa'), owner=OwnerBase(id=12, name='AirGradient'), provider=ProviderBase(id=66, name='AirGradient'), is_mobile=False, is_monitor=False, instruments=[InstrumentBase(id=7, name='AirGradient Sensor'), InstrumentBase(id=7, name='AirGradient Sensor')], sensors=[SensorBase(id=7971321, name='pm1 µg/m³', parameter=ParameterBase(id=19, name='pm1', units='µg/m³', display_name='PM1')), SensorBase(id=7979582, name='pm1 µg/m³', parameter=ParameterBase(id=19, name='pm1', units='µg/m³', display_name='PM1')), SensorBase(id=7979561, name='pm10 µg/m³', parameter=ParameterBase(id=1, name='pm10', units='µg/m³', display_name='PM10')), SensorBase(id=7970893, name='pm10 µg/m³', parameter=ParameterBase(id=1, name='pm10', units='µg/m³', display_name='PM10')), SensorBase(id=7932225, name='pm25 µg/m³', parameter=ParameterBase(id=2, name='pm25', units='µg/m³', display_name='PM2.5')), SensorBase(id=7972142, name='relativehumidity %', parameter=ParameterBase(id=98, name='relativehumidity', units='%', display_name='RH')), SensorBase(id=7932226, name='temperature c', parameter=ParameterBase(id=100, name='temperature', units='c', display_name='Temperature (C)')), SensorBase(id=7972149, name='um003 particles/cm³', parameter=ParameterBase(id=125, name='um003', units='particles/cm³', display_name='PM0.3 count'))], coordinates=Coordinates(latitude=-29.24912081285503, longitude=31.260171480830905), bounds=[31.260171480830905, -29.24912081285503, 31.260171480830905, -29.24912081285503], distance=None, datetime_first=Datetime(utc='2024-02-27T09:00:00Z', local='2024-02-27T11:00:00+02:00'), datetime_last=Datetime(utc='2024-11-15T18:00:00Z', local='2024-11-15T20:00:00+02:00')),\n",
       " Location(id=2949269, name='Glen Anil', locality=None, timezone='Africa/Johannesburg', country=CountryBase(id=37, code='ZA', name='South Africa'), owner=OwnerBase(id=12, name='AirGradient'), provider=ProviderBase(id=66, name='AirGradient'), is_mobile=False, is_monitor=False, instruments=[InstrumentBase(id=7, name='AirGradient Sensor')], sensors=[SensorBase(id=9932581, name='pm1 µg/m³', parameter=ParameterBase(id=19, name='pm1', units='µg/m³', display_name='PM1')), SensorBase(id=9932584, name='pm10 µg/m³', parameter=ParameterBase(id=1, name='pm10', units='µg/m³', display_name='PM10')), SensorBase(id=9932583, name='pm25 µg/m³', parameter=ParameterBase(id=2, name='pm25', units='µg/m³', display_name='PM2.5')), SensorBase(id=9932582, name='relativehumidity %', parameter=ParameterBase(id=98, name='relativehumidity', units='%', display_name='RH')), SensorBase(id=9932585, name='temperature c', parameter=ParameterBase(id=100, name='temperature', units='c', display_name='Temperature (C)')), SensorBase(id=9932586, name='um003 particles/cm³', parameter=ParameterBase(id=125, name='um003', units='particles/cm³', display_name='PM0.3 count'))], coordinates=Coordinates(latitude=-29.753690394713278, longitude=31.04000846462295), bounds=[31.04000846462295, -29.753690394713278, 31.04000846462295, -29.753690394713278], distance=None, datetime_first=Datetime(utc='2024-07-13T23:00:00Z', local='2024-07-14T01:00:00+02:00'), datetime_last=Datetime(utc='2024-11-15T18:00:00Z', local='2024-11-15T20:00:00+02:00')),\n",
       " Location(id=2996395, name='Northmead Industrial ', locality=None, timezone='Africa/Johannesburg', country=CountryBase(id=37, code='ZA', name='South Africa'), owner=OwnerBase(id=12, name='AirGradient'), provider=ProviderBase(id=66, name='AirGradient'), is_mobile=False, is_monitor=False, instruments=[InstrumentBase(id=7, name='AirGradient Sensor')], sensors=[SensorBase(id=10127756, name='pm1 µg/m³', parameter=ParameterBase(id=19, name='pm1', units='µg/m³', display_name='PM1')), SensorBase(id=10127767, name='pm10 µg/m³', parameter=ParameterBase(id=1, name='pm10', units='µg/m³', display_name='PM10')), SensorBase(id=10127768, name='pm25 µg/m³', parameter=ParameterBase(id=2, name='pm25', units='µg/m³', display_name='PM2.5')), SensorBase(id=10127750, name='relativehumidity %', parameter=ParameterBase(id=98, name='relativehumidity', units='%', display_name='RH')), SensorBase(id=10127749, name='temperature c', parameter=ParameterBase(id=100, name='temperature', units='c', display_name='Temperature (C)')), SensorBase(id=10127762, name='um003 particles/cm³', parameter=ParameterBase(id=125, name='um003', units='particles/cm³', display_name='PM0.3 count'))], coordinates=Coordinates(latitude=-29.763495128515, longitude=31.02616268366882), bounds=[31.02616268366882, -29.763495128515, 31.02616268366882, -29.763495128515], distance=None, datetime_first=Datetime(utc='2024-07-30T19:00:00Z', local='2024-07-30T21:00:00+02:00'), datetime_last=Datetime(utc='2024-11-15T18:00:00Z', local='2024-11-15T20:00:00+02:00')),\n",
       " Location(id=2999471, name='La Lucia ', locality=None, timezone='Africa/Johannesburg', country=CountryBase(id=37, code='ZA', name='South Africa'), owner=OwnerBase(id=12, name='AirGradient'), provider=ProviderBase(id=66, name='AirGradient'), is_mobile=False, is_monitor=False, instruments=[InstrumentBase(id=7, name='AirGradient Sensor'), InstrumentBase(id=7, name='AirGradient Sensor')], sensors=[SensorBase(id=10141754, name='pm1 µg/m³', parameter=ParameterBase(id=19, name='pm1', units='µg/m³', display_name='PM1')), SensorBase(id=10138380, name='pm1 µg/m³', parameter=ParameterBase(id=19, name='pm1', units='µg/m³', display_name='PM1')), SensorBase(id=10138382, name='pm10 µg/m³', parameter=ParameterBase(id=1, name='pm10', units='µg/m³', display_name='PM10')), SensorBase(id=10141755, name='pm10 µg/m³', parameter=ParameterBase(id=1, name='pm10', units='µg/m³', display_name='PM10')), SensorBase(id=10138383, name='pm25 µg/m³', parameter=ParameterBase(id=2, name='pm25', units='µg/m³', display_name='PM2.5')), SensorBase(id=10141756, name='pm25 µg/m³', parameter=ParameterBase(id=2, name='pm25', units='µg/m³', display_name='PM2.5')), SensorBase(id=10138376, name='relativehumidity %', parameter=ParameterBase(id=98, name='relativehumidity', units='%', display_name='RH')), SensorBase(id=10138378, name='temperature c', parameter=ParameterBase(id=100, name='temperature', units='c', display_name='Temperature (C)')), SensorBase(id=10141757, name='temperature f', parameter=ParameterBase(id=128, name='temperature', units='f', display_name='Temperature (F)')), SensorBase(id=10141758, name='temperature c', parameter=ParameterBase(id=100, name='temperature', units='c', display_name='Temperature (C)')), SensorBase(id=10138374, name='um003 particles/cm³', parameter=ParameterBase(id=125, name='um003', units='particles/cm³', display_name='PM0.3 count'))], coordinates=Coordinates(latitude=-29.7565448, longitude=31.0567579), bounds=[31.0567579, -29.7565448, 31.0567579, -29.7565448], distance=None, datetime_first=Datetime(utc='2024-07-31T18:00:00Z', local='2024-07-31T20:00:00+02:00'), datetime_last=Datetime(utc='2024-11-15T18:00:00Z', local='2024-11-15T20:00:00+02:00')),\n",
       " Location(id=3025461, name='La Mercy', locality=None, timezone='Africa/Johannesburg', country=CountryBase(id=37, code='ZA', name='South Africa'), owner=OwnerBase(id=12, name='AirGradient'), provider=ProviderBase(id=66, name='AirGradient'), is_mobile=False, is_monitor=False, instruments=[InstrumentBase(id=7, name='AirGradient Sensor')], sensors=[SensorBase(id=10330106, name='pm1 µg/m³', parameter=ParameterBase(id=19, name='pm1', units='µg/m³', display_name='PM1')), SensorBase(id=10330104, name='pm10 µg/m³', parameter=ParameterBase(id=1, name='pm10', units='µg/m³', display_name='PM10')), SensorBase(id=10330109, name='pm25 µg/m³', parameter=ParameterBase(id=2, name='pm25', units='µg/m³', display_name='PM2.5')), SensorBase(id=10330099, name='relativehumidity %', parameter=ParameterBase(id=98, name='relativehumidity', units='%', display_name='RH')), SensorBase(id=10330087, name='temperature c', parameter=ParameterBase(id=100, name='temperature', units='c', display_name='Temperature (C)')), SensorBase(id=10330091, name='um003 particles/cm³', parameter=ParameterBase(id=125, name='um003', units='particles/cm³', display_name='PM0.3 count'))], coordinates=Coordinates(latitude=-29.638539, longitude=31.132576), bounds=[31.132576, -29.638539, 31.132576, -29.638539], distance=None, datetime_first=Datetime(utc='2024-08-20T16:00:00Z', local='2024-08-20T18:00:00+02:00'), datetime_last=Datetime(utc='2024-11-15T18:00:00Z', local='2024-11-15T20:00:00+02:00')),\n",
       " Location(id=3029499, name='CAP / TEM1, KZN, ZA.', locality=None, timezone='Africa/Johannesburg', country=CountryBase(id=37, code='ZA', name='South Africa'), owner=OwnerBase(id=12, name='AirGradient'), provider=ProviderBase(id=66, name='AirGradient'), is_mobile=False, is_monitor=False, instruments=[InstrumentBase(id=7, name='AirGradient Sensor')], sensors=[SensorBase(id=10360018, name='pm1 µg/m³', parameter=ParameterBase(id=19, name='pm1', units='µg/m³', display_name='PM1')), SensorBase(id=10360007, name='pm10 µg/m³', parameter=ParameterBase(id=1, name='pm10', units='µg/m³', display_name='PM10')), SensorBase(id=10360020, name='pm25 µg/m³', parameter=ParameterBase(id=2, name='pm25', units='µg/m³', display_name='PM2.5')), SensorBase(id=10360001, name='relativehumidity %', parameter=ParameterBase(id=98, name='relativehumidity', units='%', display_name='RH')), SensorBase(id=10359997, name='temperature c', parameter=ParameterBase(id=100, name='temperature', units='c', display_name='Temperature (C)')), SensorBase(id=10360008, name='um003 particles/cm³', parameter=ParameterBase(id=125, name='um003', units='particles/cm³', display_name='PM0.3 count'))], coordinates=Coordinates(latitude=-29.44056, longitude=31.219969), bounds=[31.219969, -29.44056, 31.219969, -29.44056], distance=None, datetime_first=Datetime(utc='2024-08-23T09:00:00Z', local='2024-08-23T11:00:00+02:00'), datetime_last=Datetime(utc='2024-11-15T18:00:00Z', local='2024-11-15T20:00:00+02:00')),\n",
       " Location(id=3139864, name='DOC / CAP 01, KZN, ZA.', locality=None, timezone='Africa/Johannesburg', country=CountryBase(id=37, code='ZA', name='South Africa'), owner=OwnerBase(id=12, name='AirGradient'), provider=ProviderBase(id=66, name='AirGradient'), is_mobile=False, is_monitor=False, instruments=[InstrumentBase(id=7, name='AirGradient Sensor')], sensors=[SensorBase(id=10974066, name='pm1 µg/m³', parameter=ParameterBase(id=19, name='pm1', units='µg/m³', display_name='PM1')), SensorBase(id=10974076, name='pm10 µg/m³', parameter=ParameterBase(id=1, name='pm10', units='µg/m³', display_name='PM10')), SensorBase(id=10974074, name='pm25 µg/m³', parameter=ParameterBase(id=2, name='pm25', units='µg/m³', display_name='PM2.5')), SensorBase(id=10974072, name='relativehumidity %', parameter=ParameterBase(id=98, name='relativehumidity', units='%', display_name='RH')), SensorBase(id=10974071, name='temperature c', parameter=ParameterBase(id=100, name='temperature', units='c', display_name='Temperature (C)')), SensorBase(id=10974065, name='um003 particles/cm³', parameter=ParameterBase(id=125, name='um003', units='particles/cm³', display_name='PM0.3 count'))], coordinates=Coordinates(latitude=-29.504573027633704, longitude=31.197283250401572), bounds=[31.197283250401572, -29.504573027633704, 31.197283250401572, -29.504573027633704], distance=None, datetime_first=Datetime(utc='2024-10-16T14:00:00Z', local='2024-10-16T16:00:00+02:00'), datetime_last=Datetime(utc='2024-11-15T18:00:00Z', local='2024-11-15T20:00:00+02:00')),\n",
       " Location(id=3140021, name='DOC / CAP 02, KZN, ZA.', locality=None, timezone='Africa/Johannesburg', country=CountryBase(id=37, code='ZA', name='South Africa'), owner=OwnerBase(id=12, name='AirGradient'), provider=ProviderBase(id=66, name='AirGradient'), is_mobile=False, is_monitor=False, instruments=[InstrumentBase(id=7, name='AirGradient Sensor')], sensors=[SensorBase(id=10974423, name='pm1 µg/m³', parameter=ParameterBase(id=19, name='pm1', units='µg/m³', display_name='PM1')), SensorBase(id=10974410, name='pm10 µg/m³', parameter=ParameterBase(id=1, name='pm10', units='µg/m³', display_name='PM10')), SensorBase(id=10974437, name='pm25 µg/m³', parameter=ParameterBase(id=2, name='pm25', units='µg/m³', display_name='PM2.5')), SensorBase(id=10974436, name='relativehumidity %', parameter=ParameterBase(id=98, name='relativehumidity', units='%', display_name='RH')), SensorBase(id=10974431, name='temperature c', parameter=ParameterBase(id=100, name='temperature', units='c', display_name='Temperature (C)')), SensorBase(id=10974438, name='um003 particles/cm³', parameter=ParameterBase(id=125, name='um003', units='particles/cm³', display_name='PM0.3 count'))], coordinates=Coordinates(latitude=-29.473537639840167, longitude=31.241616148905386), bounds=[31.241616148905386, -29.473537639840167, 31.241616148905386, -29.473537639840167], distance=None, datetime_first=Datetime(utc='2024-10-16T15:00:00Z', local='2024-10-16T17:00:00+02:00'), datetime_last=Datetime(utc='2024-10-17T06:00:00Z', local='2024-10-17T08:00:00+02:00')),\n",
       " Location(id=3265204, name='DOC / CAP 02, KZN, ZA.', locality=None, timezone='Africa/Johannesburg', country=CountryBase(id=37, code='ZA', name='South Africa'), owner=OwnerBase(id=12, name='AirGradient'), provider=ProviderBase(id=66, name='AirGradient'), is_mobile=False, is_monitor=False, instruments=[InstrumentBase(id=7, name='AirGradient Sensor')], sensors=[SensorBase(id=11288227, name='pm1 µg/m³', parameter=ParameterBase(id=19, name='pm1', units='µg/m³', display_name='PM1')), SensorBase(id=11288216, name='pm10 µg/m³', parameter=ParameterBase(id=1, name='pm10', units='µg/m³', display_name='PM10')), SensorBase(id=11288225, name='pm25 µg/m³', parameter=ParameterBase(id=2, name='pm25', units='µg/m³', display_name='PM2.5')), SensorBase(id=11288237, name='relativehumidity %', parameter=ParameterBase(id=98, name='relativehumidity', units='%', display_name='RH')), SensorBase(id=11288226, name='temperature c', parameter=ParameterBase(id=100, name='temperature', units='c', display_name='Temperature (C)')), SensorBase(id=11288221, name='um003 particles/cm³', parameter=ParameterBase(id=125, name='um003', units='particles/cm³', display_name='PM0.3 count'))], coordinates=Coordinates(latitude=-29.44606746081236, longitude=31.222273621469455), bounds=[31.222273621469455, -29.44606746081236, 31.222273621469455, -29.44606746081236], distance=None, datetime_first=Datetime(utc='2024-11-13T09:00:00Z', local='2024-11-13T11:00:00+02:00'), datetime_last=Datetime(utc='2024-11-15T18:00:00Z', local='2024-11-15T20:00:00+02:00'))]"
      ]
     },
     "execution_count": 11,
     "metadata": {},
     "output_type": "execute_result"
    }
   ],
   "source": [
    "kzn_bbox_search_locations.results"
   ]
  }
 ],
 "metadata": {
  "kernelspec": {
   "display_name": ".venv",
   "language": "python",
   "name": "python3"
  },
  "language_info": {
   "codemirror_mode": {
    "name": "ipython",
    "version": 3
   },
   "file_extension": ".py",
   "mimetype": "text/x-python",
   "name": "python",
   "nbconvert_exporter": "python",
   "pygments_lexer": "ipython3",
   "version": "3.12.1"
  }
 },
 "nbformat": 4,
 "nbformat_minor": 2
}
